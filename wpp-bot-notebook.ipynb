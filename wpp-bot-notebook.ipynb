{
 "cells": [
  {
   "cell_type": "code",
   "execution_count": 153,
   "metadata": {},
   "outputs": [],
   "source": [
    "# Import WhatsApp Data Contacts\n",
    "# Read Contacts on XLSX\n",
    "\n",
    "import pandas as pd\n",
    "contatos_df = pd.read_excel(\"contatos.xlsx\")"
   ]
  },
  {
   "cell_type": "code",
   "execution_count": 154,
   "id": "17751b4d",
   "metadata": {},
   "outputs": [],
   "source": [
    "# Start Selenium\n",
    "from selenium import webdriver\n",
    "from selenium.webdriver.common.keys import Keys\n",
    "from selenium.webdriver.chrome.service import Service\n",
    "from webdriver_manager.chrome import ChromeDriverManager\n",
    "from selenium.webdriver.common.by import By\n",
    "import time\n",
    "\n",
    "# Open Browser\n",
    "browser = webdriver.Chrome(service=Service(ChromeDriverManager().install()))\n",
    "browser.get(\"https://web.whatsapp.com/\")\n",
    "time.sleep(3)"
   ]
  },
  {
   "cell_type": "code",
   "execution_count": 155,
   "id": "a0a5c3f7",
   "metadata": {},
   "outputs": [],
   "source": [
    "# Function to Check is Loggin\n",
    "def auth(browser):\n",
    "    while len(browser.find_elements(By.ID, 'side')) < 1:\n",
    "        time.sleep(1)"
   ]
  },
  {
   "cell_type": "code",
   "execution_count": 156,
   "id": "b18a7b96",
   "metadata": {},
   "outputs": [],
   "source": [
    "from selenium.webdriver.support.ui import WebDriverWait\n",
    "from selenium.webdriver.support import expected_conditions as EC\n",
    "\n",
    "def send_message(browser):\n",
    "    button = WebDriverWait(browser, 20).until(EC.element_to_be_clickable((By.XPATH, '//*[@id=\"main\"]/footer/div[1]/div/span[2]/div/div[2]/div[2]/button')))\n",
    "    button.click()"
   ]
  },
  {
   "cell_type": "code",
   "execution_count": 157,
   "id": "46d68d18",
   "metadata": {},
   "outputs": [],
   "source": [
    "# Check is Loggin\n",
    "auth(browser=browser)"
   ]
  },
  {
   "cell_type": "code",
   "execution_count": 158,
   "id": "582ce654",
   "metadata": {},
   "outputs": [],
   "source": [
    "import urllib\n",
    "\n",
    "# Send Mensages to Persons\n",
    "for i, mensagem in enumerate(contatos_df['Mensagem']):\n",
    "    name = contatos_df.loc[i, \"Pessoa\"]\n",
    "    contact = contatos_df.loc[i, \"Número\"]\n",
    "    message = urllib.parse.quote(f\"Oi {name}! {mensagem}\")\n",
    "\n",
    "    whatsapp_link = f\"https://web.whatsapp.com/send?phone={contact}&text={message}\"\n",
    "\n",
    "    browser.get(whatsapp_link)\n",
    "    \n",
    "    auth(browser=browser)\n",
    "    \n",
    "    time.sleep(10)\n",
    "    \n",
    "    send_message(browser=browser)\n",
    "\n",
    "    time.sleep(10)"
   ]
  }
 ],
 "metadata": {
  "kernelspec": {
   "display_name": "Python 3",
   "language": "python",
   "name": "python3"
  },
  "language_info": {
   "codemirror_mode": {
    "name": "ipython",
    "version": 3
   },
   "file_extension": ".py",
   "mimetype": "text/x-python",
   "name": "python",
   "nbconvert_exporter": "python",
   "pygments_lexer": "ipython3",
   "version": "3.10.10"
  }
 },
 "nbformat": 4,
 "nbformat_minor": 5
}
